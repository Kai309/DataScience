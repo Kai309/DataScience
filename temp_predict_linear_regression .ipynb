{
 "cells": [
  {
   "cell_type": "markdown",
   "id": "ebadca01",
   "metadata": {},
   "source": [
    "Predicting precipitation.\n",
    "created an excel sheet with random variables and random values\n",
    "used linear regression to predict.\n"
   ]
  },
  {
   "cell_type": "code",
   "execution_count": 2,
   "id": "b6d68398",
   "metadata": {
    "scrolled": false
   },
   "outputs": [
    {
     "name": "stdout",
     "output_type": "stream",
     "text": [
      "   Max Temp.  Min Temp.  Precipitation  Humidity\n",
      "0         32         29             19        91\n",
      "1         31         27             20        92\n",
      "2         33         29             44        88\n",
      "3         34         28             56        79\n",
      "4         37         30             54        69\n",
      "5         36         31             43        70\n",
      "6         38         32             34        77\n",
      "7         36         28             24        80\n",
      "8         31         25             25        84\n"
     ]
    }
   ],
   "source": [
    "import pandas as pd\n",
    "\n",
    "wtr_data = pd.read_csv(\"C:\\Program Files\\DATA\\wtr.csv\")\n",
    "#wtr_data.head()\n",
    "print(wtr_data)\n"
   ]
  },
  {
   "cell_type": "markdown",
   "id": "ee489c0f",
   "metadata": {},
   "source": [
    "head shows the first 5 rows of the table"
   ]
  },
  {
   "cell_type": "code",
   "execution_count": 3,
   "id": "7f111160",
   "metadata": {},
   "outputs": [
    {
     "data": {
      "text/html": [
       "<div>\n",
       "<style scoped>\n",
       "    .dataframe tbody tr th:only-of-type {\n",
       "        vertical-align: middle;\n",
       "    }\n",
       "\n",
       "    .dataframe tbody tr th {\n",
       "        vertical-align: top;\n",
       "    }\n",
       "\n",
       "    .dataframe thead th {\n",
       "        text-align: right;\n",
       "    }\n",
       "</style>\n",
       "<table border=\"1\" class=\"dataframe\">\n",
       "  <thead>\n",
       "    <tr style=\"text-align: right;\">\n",
       "      <th></th>\n",
       "      <th>Max Temp.</th>\n",
       "      <th>Min Temp.</th>\n",
       "      <th>Precipitation</th>\n",
       "      <th>Humidity</th>\n",
       "    </tr>\n",
       "  </thead>\n",
       "  <tbody>\n",
       "    <tr>\n",
       "      <th>count</th>\n",
       "      <td>9.000000</td>\n",
       "      <td>9.000000</td>\n",
       "      <td>9.000000</td>\n",
       "      <td>9.000000</td>\n",
       "    </tr>\n",
       "    <tr>\n",
       "      <th>mean</th>\n",
       "      <td>34.222222</td>\n",
       "      <td>28.777778</td>\n",
       "      <td>35.444444</td>\n",
       "      <td>81.111111</td>\n",
       "    </tr>\n",
       "    <tr>\n",
       "      <th>std</th>\n",
       "      <td>2.635231</td>\n",
       "      <td>2.108185</td>\n",
       "      <td>14.353668</td>\n",
       "      <td>8.403042</td>\n",
       "    </tr>\n",
       "    <tr>\n",
       "      <th>min</th>\n",
       "      <td>31.000000</td>\n",
       "      <td>25.000000</td>\n",
       "      <td>19.000000</td>\n",
       "      <td>69.000000</td>\n",
       "    </tr>\n",
       "    <tr>\n",
       "      <th>25%</th>\n",
       "      <td>32.000000</td>\n",
       "      <td>28.000000</td>\n",
       "      <td>24.000000</td>\n",
       "      <td>77.000000</td>\n",
       "    </tr>\n",
       "    <tr>\n",
       "      <th>50%</th>\n",
       "      <td>34.000000</td>\n",
       "      <td>29.000000</td>\n",
       "      <td>34.000000</td>\n",
       "      <td>80.000000</td>\n",
       "    </tr>\n",
       "    <tr>\n",
       "      <th>75%</th>\n",
       "      <td>36.000000</td>\n",
       "      <td>30.000000</td>\n",
       "      <td>44.000000</td>\n",
       "      <td>88.000000</td>\n",
       "    </tr>\n",
       "    <tr>\n",
       "      <th>max</th>\n",
       "      <td>38.000000</td>\n",
       "      <td>32.000000</td>\n",
       "      <td>56.000000</td>\n",
       "      <td>92.000000</td>\n",
       "    </tr>\n",
       "  </tbody>\n",
       "</table>\n",
       "</div>"
      ],
      "text/plain": [
       "       Max Temp.  Min Temp.  Precipitation   Humidity\n",
       "count   9.000000   9.000000       9.000000   9.000000\n",
       "mean   34.222222  28.777778      35.444444  81.111111\n",
       "std     2.635231   2.108185      14.353668   8.403042\n",
       "min    31.000000  25.000000      19.000000  69.000000\n",
       "25%    32.000000  28.000000      24.000000  77.000000\n",
       "50%    34.000000  29.000000      34.000000  80.000000\n",
       "75%    36.000000  30.000000      44.000000  88.000000\n",
       "max    38.000000  32.000000      56.000000  92.000000"
      ]
     },
     "execution_count": 3,
     "metadata": {},
     "output_type": "execute_result"
    }
   ],
   "source": [
    "wtr_data.describe()"
   ]
  },
  {
   "cell_type": "code",
   "execution_count": 4,
   "id": "962d1fb1",
   "metadata": {},
   "outputs": [],
   "source": [
    "from sklearn import preprocessing\n",
    "from sklearn.preprocessing import PolynomialFeatures\n",
    "from sklearn.model_selection import train_test_split\n"
   ]
  },
  {
   "cell_type": "code",
   "execution_count": 5,
   "id": "d8b3e771",
   "metadata": {},
   "outputs": [],
   "source": [
    "features = [\"Max Temp.\", \"Min Temp.\",\"Humidity\"]"
   ]
  },
  {
   "cell_type": "markdown",
   "id": "b8d80df9",
   "metadata": {},
   "source": [
    "making max, min temp and humidity as x values\n",
    "and the precipitation as y values"
   ]
  },
  {
   "cell_type": "code",
   "execution_count": 8,
   "id": "a4b06b4b",
   "metadata": {},
   "outputs": [],
   "source": [
    "x = wtr_data[features]\n",
    "y = wtr_data.Precipitation\n",
    "x_scaled  = preprocessing.scale(x)\n",
    "poly = PolynomialFeatures(1)\n",
    "x_final = poly.fit_transform(x_scaled)\n",
    "x_train, x_test, y_train, y_test = train_test_split(x_final,y,test_size=1)"
   ]
  },
  {
   "cell_type": "code",
   "execution_count": 9,
   "id": "f68ec47f",
   "metadata": {},
   "outputs": [
    {
     "data": {
      "text/plain": [
       "Ridge(alpha=0.5)"
      ]
     },
     "execution_count": 9,
     "metadata": {},
     "output_type": "execute_result"
    }
   ],
   "source": [
    "from sklearn import linear_model\n",
    "regr = linear_model.Ridge(alpha = 0.5)\n",
    "regr.fit(x_train, y_train)"
   ]
  },
  {
   "cell_type": "code",
   "execution_count": 10,
   "id": "2b24be27",
   "metadata": {},
   "outputs": [
    {
     "data": {
      "text/plain": [
       "array([31.33328784])"
      ]
     },
     "execution_count": 10,
     "metadata": {},
     "output_type": "execute_result"
    }
   ],
   "source": [
    "y_pred = regr.predict(x_test)\n",
    "y_pred\n"
   ]
  },
  {
   "cell_type": "code",
   "execution_count": 11,
   "id": "daaa8b2a",
   "metadata": {},
   "outputs": [
    {
     "name": "stdout",
     "output_type": "stream",
     "text": [
      "intercept:  36.814809760106904\n",
      "coeff:  [ 0.         -4.96359721  4.52714964 -8.35376986]\n"
     ]
    }
   ],
   "source": [
    "print(\"intercept: \", regr.intercept_)\n",
    "print(\"coeff: \", regr.coef_)"
   ]
  },
  {
   "cell_type": "code",
   "execution_count": 12,
   "id": "88a008c4",
   "metadata": {},
   "outputs": [
    {
     "name": "stdout",
     "output_type": "stream",
     "text": [
      "error: 152.109989\n"
     ]
    }
   ],
   "source": [
    "from sklearn.metrics import mean_squared_error\n",
    "print(\"error: %3f\"% mean_squared_error(y_test,y_pred))"
   ]
  },
  {
   "cell_type": "code",
   "execution_count": 14,
   "id": "47f896c4",
   "metadata": {},
   "outputs": [
    {
     "data": {
      "text/plain": [
       "array([36.81480976])"
      ]
     },
     "execution_count": 14,
     "metadata": {},
     "output_type": "execute_result"
    }
   ],
   "source": [
    "fut_wtr = [[35, 27, 78]]\n",
    "fut_wtr_scaled = preprocessing.scale(fut_wtr)\n",
    "fut_wtr_final = poly.fit_transform(fut_wtr_scaled)\n",
    "Precipitation_predict = regr.predict(fut_wtr_final)\n",
    "Precipitation_predict\n"
   ]
  },
  {
   "cell_type": "code",
   "execution_count": null,
   "id": "c5de1529",
   "metadata": {},
   "outputs": [],
   "source": []
  }
 ],
 "metadata": {
  "kernelspec": {
   "display_name": "Python 3",
   "language": "python",
   "name": "python3"
  },
  "language_info": {
   "codemirror_mode": {
    "name": "ipython",
    "version": 3
   },
   "file_extension": ".py",
   "mimetype": "text/x-python",
   "name": "python",
   "nbconvert_exporter": "python",
   "pygments_lexer": "ipython3",
   "version": "3.8.8"
  }
 },
 "nbformat": 4,
 "nbformat_minor": 5
}
